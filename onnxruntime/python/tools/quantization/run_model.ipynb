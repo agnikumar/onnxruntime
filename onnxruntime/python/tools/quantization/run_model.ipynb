{
 "cells": [
  {
   "cell_type": "code",
   "execution_count": 113,
   "metadata": {},
   "outputs": [],
   "source": [
    "import onnx\n",
    "import onnxruntime\n",
    "import numpy as np\n",
    "from onnx import numpy_helper"
   ]
  },
  {
   "cell_type": "code",
   "execution_count": 114,
   "metadata": {
    "scrolled": true
   },
   "outputs": [
    {
     "name": "stdout",
     "output_type": "stream",
     "text": [
      "Input name  : input:0\n",
      "Input shape : [None, 3, 224, 224]\n",
      "Input type  : tensor(float)\n",
      "Output name  : MobilenetV1/Predictions/Reshape_1:0\n",
      "Output shape : [None, 1001]\n",
      "Output type  : tensor(float)\n"
     ]
    }
   ],
   "source": [
    "# Identifying input name and shape\n",
    "input_name = sess.get_inputs()[0].name\n",
    "print(\"Input name  :\", input_name)\n",
    "input_shape = sess.get_inputs()[0].shape\n",
    "print(\"Input shape :\", input_shape)\n",
    "input_type = sess.get_inputs()[0].type\n",
    "print(\"Input type  :\", input_type)\n",
    "\n",
    "# Identifying output name and shape\n",
    "output_name = sess.get_outputs()[0].name\n",
    "print(\"Output name  :\", output_name)  \n",
    "output_shape = sess.get_outputs()[0].shape\n",
    "print(\"Output shape :\", output_shape)\n",
    "output_type = sess.get_outputs()[0].type\n",
    "print(\"Output type  :\", output_type)"
   ]
  },
  {
   "cell_type": "markdown",
   "metadata": {},
   "source": [
    "### Load sample inputs and outputs"
   ]
  },
  {
   "cell_type": "code",
   "execution_count": 115,
   "metadata": {},
   "outputs": [],
   "source": [
    "test_data_dir = 'C:/Users/t-agkum/onnxruntime/onnxruntime/python/tools/quantization/mobilenet.constant_initializers/test_data_set'\n",
    "test_data_num = 9"
   ]
  },
  {
   "cell_type": "code",
   "execution_count": 116,
   "metadata": {},
   "outputs": [
    {
     "name": "stdout",
     "output_type": "stream",
     "text": [
      "Loaded 9 inputs successfully.\n",
      "Loaded 9 reference outputs successfully.\n"
     ]
    }
   ],
   "source": [
    "import glob\n",
    "import os\n",
    "\n",
    "# Load inputs\n",
    "inputs = []\n",
    "for i in range(test_data_num):\n",
    "    input_file = os.path.join(test_data_dir + '_{}'.format(i), 'input_0.pb')\n",
    "    tensor = onnx.TensorProto()\n",
    "    with open(input_file, 'rb') as f:\n",
    "        tensor.ParseFromString(f.read())\n",
    "        inputs.append(numpy_helper.to_array(tensor))\n",
    "\n",
    "print('Loaded {} inputs successfully.'.format(test_data_num))\n",
    "        \n",
    "# Load reference outputs\n",
    "\n",
    "ref_outputs = []\n",
    "for i in range(test_data_num):\n",
    "    output_file = os.path.join(test_data_dir + '_{}'.format(i), 'output_0.pb')\n",
    "    tensor = onnx.TensorProto()\n",
    "    with open(output_file, 'rb') as f:\n",
    "        tensor.ParseFromString(f.read())    \n",
    "        ref_outputs.append(numpy_helper.to_array(tensor))\n",
    "        \n",
    "print('Loaded {} reference outputs successfully.'.format(test_data_num))"
   ]
  },
  {
   "cell_type": "markdown",
   "metadata": {},
   "source": [
    "### Inference using ONNX Runtime"
   ]
  },
  {
   "cell_type": "code",
   "execution_count": 117,
   "metadata": {},
   "outputs": [
    {
     "name": "stdout",
     "output_type": "stream",
     "text": [
      "Input Name: input:0\n"
     ]
    }
   ],
   "source": [
    "# Run the model on the backend\n",
    "model_path = 'C:/Users/t-agkum/onnxruntime/onnxruntime/python/tools/quantization/models/mobilenet_v1_1.0_224_modified_full_output.onnx'\n",
    "session = onnxruntime.InferenceSession(model_path, None)\n",
    "\n",
    "# get the name of the first input of the model\n",
    "input_name = session.get_inputs()[0].name  \n",
    "\n",
    "print('Input Name:', input_name)"
   ]
  },
  {
   "cell_type": "code",
   "execution_count": 125,
   "metadata": {},
   "outputs": [
    {
     "name": "stdout",
     "output_type": "stream",
     "text": [
      "Wall time: 75.5 ms\n"
     ]
    },
    {
     "data": {
      "text/plain": [
       "[array([[1.4607423e-06, 3.6980348e-06, 4.5558605e-05, ..., 2.1385383e-06,\n",
       "         5.0234477e-05, 7.4555704e-05]], dtype=float32),\n",
       " array(-1489.5682, dtype=float32),\n",
       " array(1603.8999, dtype=float32),\n",
       " array(-28.483803, dtype=float32),\n",
       " array(30.08218, dtype=float32),\n",
       " array(-31.518967, dtype=float32),\n",
       " array(31.660542, dtype=float32),\n",
       " array(-46.187794, dtype=float32),\n",
       " array(41.215622, dtype=float32),\n",
       " array(-20.282051, dtype=float32),\n",
       " array(14.503275, dtype=float32),\n",
       " array(-20.513504, dtype=float32),\n",
       " array(36.40705, dtype=float32),\n",
       " array(-13.897392, dtype=float32),\n",
       " array(18.649603, dtype=float32),\n",
       " array(-12.913298, dtype=float32),\n",
       " array(11.992815, dtype=float32),\n",
       " array(-5.4196634, dtype=float32),\n",
       " array(7.242512, dtype=float32),\n",
       " array(-20.201178, dtype=float32),\n",
       " array(12.440336, dtype=float32),\n",
       " array(-6.9915347, dtype=float32),\n",
       " array(6.7398825, dtype=float32),\n",
       " array(-7.176267, dtype=float32),\n",
       " array(7.8798323, dtype=float32),\n",
       " array(-5.4782095, dtype=float32),\n",
       " array(12.441538, dtype=float32),\n",
       " array(-15.791419, dtype=float32),\n",
       " array(11.44496, dtype=float32),\n",
       " array(-7.5501995, dtype=float32),\n",
       " array(6.94879, dtype=float32),\n",
       " array(-7.301957, dtype=float32),\n",
       " array(5.7119265, dtype=float32),\n",
       " array(-4.347387, dtype=float32),\n",
       " array(5.8712006, dtype=float32),\n",
       " array(-8.055017, dtype=float32),\n",
       " array(5.262163, dtype=float32),\n",
       " array(-3.8131967, dtype=float32),\n",
       " array(4.1490407, dtype=float32),\n",
       " array(-4.4253764, dtype=float32),\n",
       " array(5.0994763, dtype=float32),\n",
       " array(-3.433351, dtype=float32),\n",
       " array(4.6264277, dtype=float32),\n",
       " array(-5.4760747, dtype=float32),\n",
       " array(4.848394, dtype=float32),\n",
       " array(-4.0591836, dtype=float32),\n",
       " array(3.936976, dtype=float32),\n",
       " array(-2.3181915, dtype=float32),\n",
       " array(3.1237342, dtype=float32),\n",
       " array(-3.4461384, dtype=float32),\n",
       " array(3.7350724, dtype=float32),\n",
       " array(-11.248626, dtype=float32),\n",
       " array(3.4656959, dtype=float32),\n",
       " array(-12.904643, dtype=float32),\n",
       " array(8.191716, dtype=float32),\n",
       " array(-6.790256, dtype=float32),\n",
       " array(9.036439, dtype=float32)]"
      ]
     },
     "execution_count": 125,
     "metadata": {},
     "output_type": "execute_result"
    }
   ],
   "source": [
    "%%time\n",
    "#outputs = [session.run([], {input_name: inputs[i]})[0] for i in range(test_data_num)]\n",
    "#outputs = [session.run([], {input_name: inputs[i]})[0] for i in range(0, 1)] # simple for testing\n",
    "#outputs = session.run([], {input_name: inputs[0]})\n",
    "\n",
    "session.run([], {input_name: inputs[0]})"
   ]
  },
  {
   "cell_type": "code",
   "execution_count": 124,
   "metadata": {},
   "outputs": [
    {
     "name": "stdout",
     "output_type": "stream",
     "text": [
      "Predicted 57 results.\n",
      "[array([[1.4607423e-06, 3.6980348e-06, 4.5558605e-05, ..., 2.1385383e-06,\n",
      "        5.0234477e-05, 7.4555704e-05]], dtype=float32), array(-1489.5682, dtype=float32), array(1603.8999, dtype=float32), array(-28.483803, dtype=float32), array(30.08218, dtype=float32), array(-31.518967, dtype=float32), array(31.660542, dtype=float32), array(-46.187794, dtype=float32), array(41.215622, dtype=float32), array(-20.282051, dtype=float32), array(14.503275, dtype=float32), array(-20.513504, dtype=float32), array(36.40705, dtype=float32), array(-13.897392, dtype=float32), array(18.649603, dtype=float32), array(-12.913298, dtype=float32), array(11.992815, dtype=float32), array(-5.4196634, dtype=float32), array(7.242512, dtype=float32), array(-20.201178, dtype=float32), array(12.440336, dtype=float32), array(-6.9915347, dtype=float32), array(6.7398825, dtype=float32), array(-7.176267, dtype=float32), array(7.8798323, dtype=float32), array(-5.4782095, dtype=float32), array(12.441538, dtype=float32), array(-15.791419, dtype=float32), array(11.44496, dtype=float32), array(-7.5501995, dtype=float32), array(6.94879, dtype=float32), array(-7.301957, dtype=float32), array(5.7119265, dtype=float32), array(-4.347387, dtype=float32), array(5.8712006, dtype=float32), array(-8.055017, dtype=float32), array(5.262163, dtype=float32), array(-3.8131967, dtype=float32), array(4.1490407, dtype=float32), array(-4.4253764, dtype=float32), array(5.0994763, dtype=float32), array(-3.433351, dtype=float32), array(4.6264277, dtype=float32), array(-5.4760747, dtype=float32), array(4.848394, dtype=float32), array(-4.0591836, dtype=float32), array(3.936976, dtype=float32), array(-2.3181915, dtype=float32), array(3.1237342, dtype=float32), array(-3.4461384, dtype=float32), array(3.7350724, dtype=float32), array(-11.248626, dtype=float32), array(3.4656959, dtype=float32), array(-12.904643, dtype=float32), array(8.191716, dtype=float32), array(-6.790256, dtype=float32), array(9.036439, dtype=float32)]\n",
      "(57,)\n"
     ]
    }
   ],
   "source": [
    "print('Predicted {} results.'.format(len(outputs)))\n",
    "\n",
    "print(outputs)\n",
    "#print(outputs[0])\n",
    "#print(len(outputs[0][0]))\n",
    "#print(len(outputs[8][0]))\n",
    "\n",
    "#print(type(outputs))\n",
    "print(np.array(outputs).shape)"
   ]
  },
  {
   "cell_type": "code",
   "execution_count": null,
   "metadata": {},
   "outputs": [],
   "source": [
    "for node in "
   ]
  },
  {
   "cell_type": "code",
   "execution_count": null,
   "metadata": {},
   "outputs": [],
   "source": []
  },
  {
   "cell_type": "code",
   "execution_count": null,
   "metadata": {},
   "outputs": [],
   "source": []
  },
  {
   "cell_type": "code",
   "execution_count": 94,
   "metadata": {},
   "outputs": [
    {
     "name": "stdout",
     "output_type": "stream",
     "text": [
      "NodeArg(name='input:0', type='tensor(float)', shape=[None, 3, 224, 224])\n"
     ]
    }
   ],
   "source": [
    "#print(len(session.get_inputs()))\n",
    "print(session.get_inputs()[0])"
   ]
  },
  {
   "cell_type": "code",
   "execution_count": 95,
   "metadata": {},
   "outputs": [
    {
     "name": "stdout",
     "output_type": "stream",
     "text": [
      "[[1.4607423e-06 3.6980348e-06 4.5558605e-05 ... 2.1385383e-06\n",
      "  5.0234477e-05 7.4555704e-05]]\n",
      "[[1.0327224e-06 3.0227825e-06 4.0882085e-05 ... 2.9340874e-06\n",
      "  5.7922800e-05 5.7930258e-05]]\n",
      "[[1.7367346e-06 7.1289687e-06 6.9378642e-05 ... 2.4163644e-06\n",
      "  4.7343405e-05 1.3384491e-04]]\n",
      "[[9.5341983e-07 2.8509198e-06 6.2112027e-05 ... 4.3783134e-06\n",
      "  7.0413298e-05 3.1824868e-05]]\n",
      "[[1.2961603e-06 3.6856343e-06 2.7079444e-05 ... 2.4245621e-06\n",
      "  4.9743681e-05 1.2585374e-04]]\n",
      "[[1.1825196e-06 3.4766460e-06 4.1187031e-05 ... 1.6584260e-06\n",
      "  5.0666469e-05 6.6964247e-05]]\n",
      "[[7.8969515e-07 3.4483915e-06 5.1378312e-05 ... 8.7252454e-07\n",
      "  3.0946088e-05 6.2804429e-05]]\n",
      "[[1.3042193e-06 6.7608503e-06 2.6453874e-05 ... 2.0615691e-06\n",
      "  3.3543616e-05 5.7338628e-05]]\n",
      "[[1.1081705e-06 4.3718742e-06 3.6991562e-05 ... 1.9316426e-06\n",
      "  4.2758711e-05 6.4682674e-05]]\n"
     ]
    }
   ],
   "source": [
    "# Writing loop more clearly to add intermediate print statements\n",
    "\n",
    "outputs_list = []\n",
    "\n",
    "for i in range(test_data_num):\n",
    "    output = session.run([], {input_name: inputs[i]})[0] \n",
    "    outputs_list.append(output)\n",
    "    print(output)\n",
    "    \n",
    "#print(outputs_list)"
   ]
  },
  {
   "cell_type": "code",
   "execution_count": null,
   "metadata": {},
   "outputs": [],
   "source": []
  },
  {
   "cell_type": "code",
   "execution_count": 53,
   "metadata": {},
   "outputs": [
    {
     "ename": "AssertionError",
     "evalue": "\nArrays are not almost equal to 4 decimals\n\n(shapes (1, 1000), (1, 1001) mismatch)\n x: array([[0.0000e+00, 0.0000e+00, 0.0000e+00, 0.0000e+00, 0.0000e+00,\n        0.0000e+00, 0.0000e+00, 0.0000e+00, 9.3992e-37, 0.0000e+00,\n        0.0000e+00, 0.0000e+00, 0.0000e+00, 0.0000e+00, 0.0000e+00,...\n y: array([[1.4607e-06, 3.6980e-06, 4.5559e-05, ..., 2.1385e-06, 5.0234e-05,\n        7.4556e-05]], dtype=float32)",
     "output_type": "error",
     "traceback": [
      "\u001b[1;31m---------------------------------------------------------------------------\u001b[0m",
      "\u001b[1;31mAssertionError\u001b[0m                            Traceback (most recent call last)",
      "\u001b[1;32m<ipython-input-53-c3a107e417ba>\u001b[0m in \u001b[0;36m<module>\u001b[1;34m\u001b[0m\n\u001b[0;32m      1\u001b[0m \u001b[1;31m# Compare the results with reference outputs up to 4 decimal places\u001b[0m\u001b[1;33m\u001b[0m\u001b[1;33m\u001b[0m\u001b[1;33m\u001b[0m\u001b[0m\n\u001b[0;32m      2\u001b[0m \u001b[1;32mfor\u001b[0m \u001b[0mref_o\u001b[0m\u001b[1;33m,\u001b[0m \u001b[0mo\u001b[0m \u001b[1;32min\u001b[0m \u001b[0mzip\u001b[0m\u001b[1;33m(\u001b[0m\u001b[0mref_outputs\u001b[0m\u001b[1;33m,\u001b[0m \u001b[0moutputs\u001b[0m\u001b[1;33m)\u001b[0m\u001b[1;33m:\u001b[0m\u001b[1;33m\u001b[0m\u001b[1;33m\u001b[0m\u001b[0m\n\u001b[1;32m----> 3\u001b[1;33m     \u001b[0mnp\u001b[0m\u001b[1;33m.\u001b[0m\u001b[0mtesting\u001b[0m\u001b[1;33m.\u001b[0m\u001b[0massert_almost_equal\u001b[0m\u001b[1;33m(\u001b[0m\u001b[0mref_o\u001b[0m\u001b[1;33m,\u001b[0m \u001b[0mo\u001b[0m\u001b[1;33m,\u001b[0m \u001b[1;36m4\u001b[0m\u001b[1;33m)\u001b[0m\u001b[1;33m\u001b[0m\u001b[1;33m\u001b[0m\u001b[0m\n\u001b[0m",
      "\u001b[1;32m~\\AppData\\Local\\Continuum\\anaconda3\\lib\\site-packages\\numpy\\testing\\_private\\utils.py\u001b[0m in \u001b[0;36massert_almost_equal\u001b[1;34m(actual, desired, decimal, err_msg, verbose)\u001b[0m\n\u001b[0;32m    570\u001b[0m     \u001b[1;32mif\u001b[0m \u001b[0misinstance\u001b[0m\u001b[1;33m(\u001b[0m\u001b[0mactual\u001b[0m\u001b[1;33m,\u001b[0m \u001b[1;33m(\u001b[0m\u001b[0mndarray\u001b[0m\u001b[1;33m,\u001b[0m \u001b[0mtuple\u001b[0m\u001b[1;33m,\u001b[0m \u001b[0mlist\u001b[0m\u001b[1;33m)\u001b[0m\u001b[1;33m)\u001b[0m\u001b[0;31m \u001b[0m\u001b[0;31m\\\u001b[0m\u001b[1;33m\u001b[0m\u001b[1;33m\u001b[0m\u001b[0m\n\u001b[0;32m    571\u001b[0m             \u001b[1;32mor\u001b[0m \u001b[0misinstance\u001b[0m\u001b[1;33m(\u001b[0m\u001b[0mdesired\u001b[0m\u001b[1;33m,\u001b[0m \u001b[1;33m(\u001b[0m\u001b[0mndarray\u001b[0m\u001b[1;33m,\u001b[0m \u001b[0mtuple\u001b[0m\u001b[1;33m,\u001b[0m \u001b[0mlist\u001b[0m\u001b[1;33m)\u001b[0m\u001b[1;33m)\u001b[0m\u001b[1;33m:\u001b[0m\u001b[1;33m\u001b[0m\u001b[1;33m\u001b[0m\u001b[0m\n\u001b[1;32m--> 572\u001b[1;33m         \u001b[1;32mreturn\u001b[0m \u001b[0massert_array_almost_equal\u001b[0m\u001b[1;33m(\u001b[0m\u001b[0mactual\u001b[0m\u001b[1;33m,\u001b[0m \u001b[0mdesired\u001b[0m\u001b[1;33m,\u001b[0m \u001b[0mdecimal\u001b[0m\u001b[1;33m,\u001b[0m \u001b[0merr_msg\u001b[0m\u001b[1;33m)\u001b[0m\u001b[1;33m\u001b[0m\u001b[1;33m\u001b[0m\u001b[0m\n\u001b[0m\u001b[0;32m    573\u001b[0m     \u001b[1;32mtry\u001b[0m\u001b[1;33m:\u001b[0m\u001b[1;33m\u001b[0m\u001b[1;33m\u001b[0m\u001b[0m\n\u001b[0;32m    574\u001b[0m         \u001b[1;31m# If one of desired/actual is not finite, handle it specially here:\u001b[0m\u001b[1;33m\u001b[0m\u001b[1;33m\u001b[0m\u001b[1;33m\u001b[0m\u001b[0m\n",
      "\u001b[1;32m~\\AppData\\Local\\Continuum\\anaconda3\\lib\\site-packages\\numpy\\testing\\_private\\utils.py\u001b[0m in \u001b[0;36massert_array_almost_equal\u001b[1;34m(x, y, decimal, err_msg, verbose)\u001b[0m\n\u001b[0;32m   1013\u001b[0m     assert_array_compare(compare, x, y, err_msg=err_msg, verbose=verbose,\n\u001b[0;32m   1014\u001b[0m              \u001b[0mheader\u001b[0m\u001b[1;33m=\u001b[0m\u001b[1;33m(\u001b[0m\u001b[1;34m'Arrays are not almost equal to %d decimals'\u001b[0m \u001b[1;33m%\u001b[0m \u001b[0mdecimal\u001b[0m\u001b[1;33m)\u001b[0m\u001b[1;33m,\u001b[0m\u001b[1;33m\u001b[0m\u001b[1;33m\u001b[0m\u001b[0m\n\u001b[1;32m-> 1015\u001b[1;33m              precision=decimal)\n\u001b[0m\u001b[0;32m   1016\u001b[0m \u001b[1;33m\u001b[0m\u001b[0m\n\u001b[0;32m   1017\u001b[0m \u001b[1;33m\u001b[0m\u001b[0m\n",
      "\u001b[1;32m~\\AppData\\Local\\Continuum\\anaconda3\\lib\\site-packages\\numpy\\testing\\_private\\utils.py\u001b[0m in \u001b[0;36massert_array_compare\u001b[1;34m(comparison, x, y, err_msg, verbose, header, precision, equal_nan, equal_inf)\u001b[0m\n\u001b[0;32m    750\u001b[0m                                 \u001b[0mverbose\u001b[0m\u001b[1;33m=\u001b[0m\u001b[0mverbose\u001b[0m\u001b[1;33m,\u001b[0m \u001b[0mheader\u001b[0m\u001b[1;33m=\u001b[0m\u001b[0mheader\u001b[0m\u001b[1;33m,\u001b[0m\u001b[1;33m\u001b[0m\u001b[1;33m\u001b[0m\u001b[0m\n\u001b[0;32m    751\u001b[0m                                 names=('x', 'y'), precision=precision)\n\u001b[1;32m--> 752\u001b[1;33m             \u001b[1;32mraise\u001b[0m \u001b[0mAssertionError\u001b[0m\u001b[1;33m(\u001b[0m\u001b[0mmsg\u001b[0m\u001b[1;33m)\u001b[0m\u001b[1;33m\u001b[0m\u001b[1;33m\u001b[0m\u001b[0m\n\u001b[0m\u001b[0;32m    753\u001b[0m \u001b[1;33m\u001b[0m\u001b[0m\n\u001b[0;32m    754\u001b[0m         \u001b[0mflagged\u001b[0m \u001b[1;33m=\u001b[0m \u001b[0mbool_\u001b[0m\u001b[1;33m(\u001b[0m\u001b[1;32mFalse\u001b[0m\u001b[1;33m)\u001b[0m\u001b[1;33m\u001b[0m\u001b[1;33m\u001b[0m\u001b[0m\n",
      "\u001b[1;31mAssertionError\u001b[0m: \nArrays are not almost equal to 4 decimals\n\n(shapes (1, 1000), (1, 1001) mismatch)\n x: array([[0.0000e+00, 0.0000e+00, 0.0000e+00, 0.0000e+00, 0.0000e+00,\n        0.0000e+00, 0.0000e+00, 0.0000e+00, 9.3992e-37, 0.0000e+00,\n        0.0000e+00, 0.0000e+00, 0.0000e+00, 0.0000e+00, 0.0000e+00,...\n y: array([[1.4607e-06, 3.6980e-06, 4.5559e-05, ..., 2.1385e-06, 5.0234e-05,\n        7.4556e-05]], dtype=float32)"
     ]
    }
   ],
   "source": [
    "# Compare the results with reference outputs up to 4 decimal places\n",
    "for ref_o, o in zip(ref_outputs, outputs):\n",
    "    np.testing.assert_almost_equal(ref_o, o, 4)"
   ]
  },
  {
   "cell_type": "code",
   "execution_count": null,
   "metadata": {},
   "outputs": [],
   "source": []
  },
  {
   "cell_type": "code",
   "execution_count": 28,
   "metadata": {},
   "outputs": [
    {
     "ename": "TypeError",
     "evalue": "'NoneType' object cannot be interpreted as an integer",
     "output_type": "error",
     "traceback": [
      "\u001b[1;31m---------------------------------------------------------------------------\u001b[0m",
      "\u001b[1;31mTypeError\u001b[0m                                 Traceback (most recent call last)",
      "\u001b[1;32m<ipython-input-28-a161161a0d64>\u001b[0m in \u001b[0;36m<module>\u001b[1;34m\u001b[0m\n\u001b[1;32m----> 1\u001b[1;33m \u001b[0mx\u001b[0m \u001b[1;33m=\u001b[0m \u001b[0mnp\u001b[0m\u001b[1;33m.\u001b[0m\u001b[0mrandom\u001b[0m\u001b[1;33m.\u001b[0m\u001b[0mrandom\u001b[0m\u001b[1;33m(\u001b[0m\u001b[0minput_shape\u001b[0m\u001b[1;33m)\u001b[0m\u001b[1;33m\u001b[0m\u001b[1;33m\u001b[0m\u001b[0m\n\u001b[0m\u001b[0;32m      2\u001b[0m \u001b[0mx\u001b[0m \u001b[1;33m=\u001b[0m \u001b[0mx\u001b[0m\u001b[1;33m.\u001b[0m\u001b[0mastype\u001b[0m\u001b[1;33m(\u001b[0m\u001b[0mnp\u001b[0m\u001b[1;33m.\u001b[0m\u001b[0mfloat32\u001b[0m\u001b[1;33m)\u001b[0m\u001b[1;33m\u001b[0m\u001b[1;33m\u001b[0m\u001b[0m\n",
      "\u001b[1;32mmtrand.pyx\u001b[0m in \u001b[0;36mmtrand.RandomState.random_sample\u001b[1;34m()\u001b[0m\n",
      "\u001b[1;32mmtrand.pyx\u001b[0m in \u001b[0;36mmtrand.cont0_array\u001b[1;34m()\u001b[0m\n",
      "\u001b[1;31mTypeError\u001b[0m: 'NoneType' object cannot be interpreted as an integer"
     ]
    }
   ],
   "source": [
    "x = np.random.random(input_shape)\n",
    "x = x.astype(np.float32)"
   ]
  },
  {
   "cell_type": "code",
   "execution_count": 29,
   "metadata": {},
   "outputs": [
    {
     "ename": "NameError",
     "evalue": "name 'x' is not defined",
     "output_type": "error",
     "traceback": [
      "\u001b[1;31m---------------------------------------------------------------------------\u001b[0m",
      "\u001b[1;31mNameError\u001b[0m                                 Traceback (most recent call last)",
      "\u001b[1;32m<timed exec>\u001b[0m in \u001b[0;36m<module>\u001b[1;34m\u001b[0m\n",
      "\u001b[1;31mNameError\u001b[0m: name 'x' is not defined"
     ]
    }
   ],
   "source": [
    "%%time\n",
    "result = sess.run([output_name], {input_name: x})"
   ]
  },
  {
   "cell_type": "code",
   "execution_count": 81,
   "metadata": {},
   "outputs": [
    {
     "name": "stdout",
     "output_type": "stream",
     "text": [
      "()\n"
     ]
    }
   ],
   "source": [
    "print(np.shape(5))"
   ]
  },
  {
   "cell_type": "code",
   "execution_count": null,
   "metadata": {},
   "outputs": [],
   "source": []
  }
 ],
 "metadata": {
  "kernelspec": {
   "display_name": "Python 3",
   "language": "python",
   "name": "python3"
  },
  "language_info": {
   "codemirror_mode": {
    "name": "ipython",
    "version": 3
   },
   "file_extension": ".py",
   "mimetype": "text/x-python",
   "name": "python",
   "nbconvert_exporter": "python",
   "pygments_lexer": "ipython3",
   "version": "3.6.8"
  }
 },
 "nbformat": 4,
 "nbformat_minor": 2
}
