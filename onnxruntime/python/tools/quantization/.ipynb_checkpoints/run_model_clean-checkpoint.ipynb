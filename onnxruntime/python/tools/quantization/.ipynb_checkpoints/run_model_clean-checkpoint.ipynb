{
 "cells": [
  {
   "cell_type": "markdown",
   "metadata": {},
   "source": [
    "## Running ONNX models with intermediate outputs"
   ]
  },
  {
   "cell_type": "code",
   "execution_count": 1,
   "metadata": {},
   "outputs": [],
   "source": [
    "import onnx\n",
    "import onnxruntime\n",
    "import numpy as np\n",
    "from onnx import numpy_helper"
   ]
  },
  {
   "cell_type": "markdown",
   "metadata": {},
   "source": [
    "### Load sample inputs and outputs"
   ]
  },
  {
   "cell_type": "code",
   "execution_count": 4,
   "metadata": {},
   "outputs": [],
   "source": [
    "test_data_dir = 'C:/Users/t-agkum/onnxruntime/onnxruntime/python/tools/quantization/mobilenet.constant_initializers/test_data_set'\n",
    "test_data_num = 9"
   ]
  },
  {
   "cell_type": "code",
   "execution_count": 5,
   "metadata": {},
   "outputs": [
    {
     "name": "stdout",
     "output_type": "stream",
     "text": [
      "Loaded 9 inputs successfully.\n",
      "Loaded 9 reference outputs successfully.\n"
     ]
    }
   ],
   "source": [
    "import glob\n",
    "import os\n",
    "\n",
    "# Load inputs\n",
    "inputs = []\n",
    "for i in range(test_data_num):\n",
    "    input_file = os.path.join(test_data_dir + '_{}'.format(i), 'input_0.pb')\n",
    "    tensor = onnx.TensorProto()\n",
    "    with open(input_file, 'rb') as f:\n",
    "        tensor.ParseFromString(f.read())\n",
    "        inputs.append(numpy_helper.to_array(tensor))\n",
    "\n",
    "print('Loaded {} inputs successfully.'.format(test_data_num))\n",
    "        \n",
    "# Load reference outputs\n",
    "ref_outputs = []\n",
    "for i in range(test_data_num):\n",
    "    output_file = os.path.join(test_data_dir + '_{}'.format(i), 'output_0.pb')\n",
    "    tensor = onnx.TensorProto()\n",
    "    with open(output_file, 'rb') as f:\n",
    "        tensor.ParseFromString(f.read())    \n",
    "        ref_outputs.append(numpy_helper.to_array(tensor))\n",
    "        \n",
    "print('Loaded {} reference outputs successfully.'.format(test_data_num))"
   ]
  },
  {
   "cell_type": "markdown",
   "metadata": {},
   "source": [
    "### Inference using ONNX Runtime"
   ]
  },
  {
   "cell_type": "code",
   "execution_count": 13,
   "metadata": {},
   "outputs": [
    {
     "name": "stdout",
     "output_type": "stream",
     "text": [
      "Input Name: input:0\n"
     ]
    }
   ],
   "source": [
    "# Run the model on the backend\n",
    "model_path = 'C:/Users/t-agkum/onnxruntime/onnxruntime/python/tools/quantization/models/mobilenet_v1_1.0_224_modified_full_output.onnx'\n",
    "session = onnxruntime.InferenceSession(model_path, None)\n",
    "\n",
    "# Get the name of the first input of the model\n",
    "input_name = session.get_inputs()[0].name  \n",
    "\n",
    "print('Input Name:', input_name)"
   ]
  },
  {
   "cell_type": "code",
   "execution_count": 59,
   "metadata": {},
   "outputs": [
    {
     "name": "stdout",
     "output_type": "stream",
     "text": [
      "Predicted 57 results.\n",
      "[array([[1.4607423e-06, 3.6980348e-06, 4.5558605e-05, ..., 2.1385383e-06,\n",
      "        5.0234477e-05, 7.4555704e-05]], dtype=float32), array(-1489.5682, dtype=float32), array(1603.8999, dtype=float32), array(-28.483803, dtype=float32), array(30.08218, dtype=float32), array(-31.518967, dtype=float32), array(31.660542, dtype=float32), array(-46.187794, dtype=float32), array(41.215622, dtype=float32), array(-20.282051, dtype=float32), array(14.503275, dtype=float32), array(-20.513504, dtype=float32), array(36.40705, dtype=float32), array(-13.897392, dtype=float32), array(18.649603, dtype=float32), array(-12.913298, dtype=float32), array(11.992815, dtype=float32), array(-5.4196634, dtype=float32), array(7.242512, dtype=float32), array(-20.201178, dtype=float32), array(12.440336, dtype=float32), array(-6.9915347, dtype=float32), array(6.7398825, dtype=float32), array(-7.176267, dtype=float32), array(7.8798323, dtype=float32), array(-5.4782095, dtype=float32), array(12.441538, dtype=float32), array(-15.791419, dtype=float32), array(11.44496, dtype=float32), array(-7.5501995, dtype=float32), array(6.94879, dtype=float32), array(-7.301957, dtype=float32), array(5.7119265, dtype=float32), array(-4.347387, dtype=float32), array(5.8712006, dtype=float32), array(-8.055017, dtype=float32), array(5.262163, dtype=float32), array(-3.8131967, dtype=float32), array(4.1490407, dtype=float32), array(-4.4253764, dtype=float32), array(5.0994763, dtype=float32), array(-3.433351, dtype=float32), array(4.6264277, dtype=float32), array(-5.4760747, dtype=float32), array(4.848394, dtype=float32), array(-4.0591836, dtype=float32), array(3.936976, dtype=float32), array(-2.3181915, dtype=float32), array(3.1237342, dtype=float32), array(-3.4461384, dtype=float32), array(3.7350724, dtype=float32), array(-11.248626, dtype=float32), array(3.4656959, dtype=float32), array(-12.904643, dtype=float32), array(8.191716, dtype=float32), array(-6.790256, dtype=float32), array(9.036439, dtype=float32)]\n",
      "Wall time: 961 ms\n"
     ]
    }
   ],
   "source": [
    "%%time\n",
    "intermediate_outputs = session.run([], {input_name: inputs[0]})\n",
    "intermediate_outputs_multiple = [session.run([], {input_name: inputs[i]}) for i in range(test_data_num)] # results from multiple test datasets\n",
    "\n",
    "print('Predicted {} results.'.format(len(intermediate_outputs)))\n",
    "print(intermediate_outputs)"
   ]
  },
  {
   "cell_type": "markdown",
   "metadata": {},
   "source": [
    "### Assign outputs to node names"
   ]
  },
  {
   "cell_type": "code",
   "execution_count": 60,
   "metadata": {},
   "outputs": [
    {
     "name": "stdout",
     "output_type": "stream",
     "text": [
      "57\n",
      "['MobilenetV1/Predictions/Reshape_1', 'Conv__153_ReduceMin', 'Conv__153_ReduceMax', 'Conv__155_ReduceMin', 'Conv__155_ReduceMax', 'Conv__157_ReduceMin', 'Conv__157_ReduceMax', 'Conv__159_ReduceMin', 'Conv__159_ReduceMax', 'Conv__161_ReduceMin', 'Conv__161_ReduceMax', 'Conv__163_ReduceMin', 'Conv__163_ReduceMax', 'Conv__165_ReduceMin', 'Conv__165_ReduceMax', 'Conv__167_ReduceMin', 'Conv__167_ReduceMax', 'Conv__169_ReduceMin', 'Conv__169_ReduceMax', 'Conv__171_ReduceMin', 'Conv__171_ReduceMax', 'Conv__173_ReduceMin', 'Conv__173_ReduceMax', 'Conv__175_ReduceMin', 'Conv__175_ReduceMax', 'Conv__177_ReduceMin', 'Conv__177_ReduceMax', 'Conv__179_ReduceMin', 'Conv__179_ReduceMax', 'Conv__181_ReduceMin', 'Conv__181_ReduceMax', 'Conv__183_ReduceMin', 'Conv__183_ReduceMax', 'Conv__185_ReduceMin', 'Conv__185_ReduceMax', 'Conv__187_ReduceMin', 'Conv__187_ReduceMax', 'Conv__189_ReduceMin', 'Conv__189_ReduceMax', 'Conv__191_ReduceMin', 'Conv__191_ReduceMax', 'Conv__193_ReduceMin', 'Conv__193_ReduceMax', 'Conv__195_ReduceMin', 'Conv__195_ReduceMax', 'Conv__197_ReduceMin', 'Conv__197_ReduceMax', 'Conv__199_ReduceMin', 'Conv__199_ReduceMax', 'Conv__201_ReduceMin', 'Conv__201_ReduceMax', 'Conv__203_ReduceMin', 'Conv__203_ReduceMax', 'Conv__205_ReduceMin', 'Conv__205_ReduceMax', 'Conv__207_ReduceMin', 'Conv__207_ReduceMax']\n"
     ]
    }
   ],
   "source": [
    "num_outputs = len(intermediate_outputs) # for single test dataset (57 for mobilenet)\n",
    "\n",
    "output_node_names = [session.get_outputs()[i].name for i in range(num_outputs)]\n",
    "node_names = [name[:-2] for name in output_node_names]\n",
    "\n",
    "print(len(output_node_names))\n",
    "print(node_names)"
   ]
  },
  {
   "cell_type": "code",
   "execution_count": 61,
   "metadata": {},
   "outputs": [
    {
     "name": "stdout",
     "output_type": "stream",
     "text": [
      "{'MobilenetV1/Predictions/Reshape_1': array([[1.4607423e-06, 3.6980348e-06, 4.5558605e-05, ..., 2.1385383e-06,\n",
      "        5.0234477e-05, 7.4555704e-05]], dtype=float32), 'Conv__153_ReduceMin': array(-1489.5682, dtype=float32), 'Conv__153_ReduceMax': array(1603.8999, dtype=float32), 'Conv__155_ReduceMin': array(-28.483803, dtype=float32), 'Conv__155_ReduceMax': array(30.08218, dtype=float32), 'Conv__157_ReduceMin': array(-31.518967, dtype=float32), 'Conv__157_ReduceMax': array(31.660542, dtype=float32), 'Conv__159_ReduceMin': array(-46.187794, dtype=float32), 'Conv__159_ReduceMax': array(41.215622, dtype=float32), 'Conv__161_ReduceMin': array(-20.282051, dtype=float32), 'Conv__161_ReduceMax': array(14.503275, dtype=float32), 'Conv__163_ReduceMin': array(-20.513504, dtype=float32), 'Conv__163_ReduceMax': array(36.40705, dtype=float32), 'Conv__165_ReduceMin': array(-13.897392, dtype=float32), 'Conv__165_ReduceMax': array(18.649603, dtype=float32), 'Conv__167_ReduceMin': array(-12.913298, dtype=float32), 'Conv__167_ReduceMax': array(11.992815, dtype=float32), 'Conv__169_ReduceMin': array(-5.4196634, dtype=float32), 'Conv__169_ReduceMax': array(7.242512, dtype=float32), 'Conv__171_ReduceMin': array(-20.201178, dtype=float32), 'Conv__171_ReduceMax': array(12.440336, dtype=float32), 'Conv__173_ReduceMin': array(-6.9915347, dtype=float32), 'Conv__173_ReduceMax': array(6.7398825, dtype=float32), 'Conv__175_ReduceMin': array(-7.176267, dtype=float32), 'Conv__175_ReduceMax': array(7.8798323, dtype=float32), 'Conv__177_ReduceMin': array(-5.4782095, dtype=float32), 'Conv__177_ReduceMax': array(12.441538, dtype=float32), 'Conv__179_ReduceMin': array(-15.791419, dtype=float32), 'Conv__179_ReduceMax': array(11.44496, dtype=float32), 'Conv__181_ReduceMin': array(-7.5501995, dtype=float32), 'Conv__181_ReduceMax': array(6.94879, dtype=float32), 'Conv__183_ReduceMin': array(-7.301957, dtype=float32), 'Conv__183_ReduceMax': array(5.7119265, dtype=float32), 'Conv__185_ReduceMin': array(-4.347387, dtype=float32), 'Conv__185_ReduceMax': array(5.8712006, dtype=float32), 'Conv__187_ReduceMin': array(-8.055017, dtype=float32), 'Conv__187_ReduceMax': array(5.262163, dtype=float32), 'Conv__189_ReduceMin': array(-3.8131967, dtype=float32), 'Conv__189_ReduceMax': array(4.1490407, dtype=float32), 'Conv__191_ReduceMin': array(-4.4253764, dtype=float32), 'Conv__191_ReduceMax': array(5.0994763, dtype=float32), 'Conv__193_ReduceMin': array(-3.433351, dtype=float32), 'Conv__193_ReduceMax': array(4.6264277, dtype=float32), 'Conv__195_ReduceMin': array(-5.4760747, dtype=float32), 'Conv__195_ReduceMax': array(4.848394, dtype=float32), 'Conv__197_ReduceMin': array(-4.0591836, dtype=float32), 'Conv__197_ReduceMax': array(3.936976, dtype=float32), 'Conv__199_ReduceMin': array(-2.3181915, dtype=float32), 'Conv__199_ReduceMax': array(3.1237342, dtype=float32), 'Conv__201_ReduceMin': array(-3.4461384, dtype=float32), 'Conv__201_ReduceMax': array(3.7350724, dtype=float32), 'Conv__203_ReduceMin': array(-11.248626, dtype=float32), 'Conv__203_ReduceMax': array(3.4656959, dtype=float32), 'Conv__205_ReduceMin': array(-12.904643, dtype=float32), 'Conv__205_ReduceMax': array(8.191716, dtype=float32), 'Conv__207_ReduceMin': array(-6.790256, dtype=float32), 'Conv__207_ReduceMax': array(9.036439, dtype=float32)}\n"
     ]
    }
   ],
   "source": [
    "# Create dictionary for sending to quantize.py\n",
    "\n",
    "output_dictionary = dict(zip(node_names, intermediate_outputs))\n",
    "print(output_dictionary)"
   ]
  },
  {
   "cell_type": "code",
   "execution_count": 72,
   "metadata": {
    "scrolled": true
   },
   "outputs": [
    {
     "name": "stdout",
     "output_type": "stream",
     "text": [
      "{'MobilenetV1/Predictions/Reshape_1': [array([[1.4607423e-06, 3.6980348e-06, 4.5558605e-05, ..., 2.1385383e-06,\n",
      "        5.0234477e-05, 7.4555704e-05]], dtype=float32), array([[1.0327224e-06, 3.0227825e-06, 4.0882085e-05, ..., 2.9340874e-06,\n",
      "        5.7922800e-05, 5.7930258e-05]], dtype=float32), array([[1.7367346e-06, 7.1289687e-06, 6.9378642e-05, ..., 2.4163644e-06,\n",
      "        4.7343405e-05, 1.3384491e-04]], dtype=float32), array([[9.5341983e-07, 2.8509198e-06, 6.2112027e-05, ..., 4.3783134e-06,\n",
      "        7.0413298e-05, 3.1824868e-05]], dtype=float32), array([[1.2961603e-06, 3.6856343e-06, 2.7079444e-05, ..., 2.4245621e-06,\n",
      "        4.9743681e-05, 1.2585374e-04]], dtype=float32), array([[1.1825196e-06, 3.4766460e-06, 4.1187031e-05, ..., 1.6584260e-06,\n",
      "        5.0666469e-05, 6.6964247e-05]], dtype=float32), array([[7.8969515e-07, 3.4483915e-06, 5.1378312e-05, ..., 8.7252454e-07,\n",
      "        3.0946088e-05, 6.2804429e-05]], dtype=float32), array([[1.3042193e-06, 6.7608503e-06, 2.6453874e-05, ..., 2.0615691e-06,\n",
      "        3.3543616e-05, 5.7338628e-05]], dtype=float32), array([[1.1081705e-06, 4.3718742e-06, 3.6991562e-05, ..., 1.9316426e-06,\n",
      "        4.2758711e-05, 6.4682674e-05]], dtype=float32)], 'Conv__153_ReduceMin': [array(-1489.5682, dtype=float32), array(-1461.2195, dtype=float32), array(-1542.7468, dtype=float32), array(-1509.1271, dtype=float32), array(-1484.7705, dtype=float32), array(-1461.6097, dtype=float32), array(-1512.2516, dtype=float32), array(-1498.02, dtype=float32), array(-1544.2504, dtype=float32)], 'Conv__153_ReduceMax': [array(1603.8999, dtype=float32), array(1592.2769, dtype=float32), array(1614.2854, dtype=float32), array(1593.8745, dtype=float32), array(1646.738, dtype=float32), array(1664.9552, dtype=float32), array(1475.7374, dtype=float32), array(1557.445, dtype=float32), array(1495.7031, dtype=float32)], 'Conv__155_ReduceMin': [array(-28.483803, dtype=float32), array(-31.922272, dtype=float32), array(-28.483803, dtype=float32), array(-31.324512, dtype=float32), array(-29.829327, dtype=float32), array(-29.216648, dtype=float32), array(-31.400862, dtype=float32), array(-28.483803, dtype=float32), array(-30.141188, dtype=float32)], 'Conv__155_ReduceMax': [array(30.08218, dtype=float32), array(30.08218, dtype=float32), array(30.08218, dtype=float32), array(30.08218, dtype=float32), array(30.08218, dtype=float32), array(30.08218, dtype=float32), array(30.08218, dtype=float32), array(30.08218, dtype=float32), array(29.991863, dtype=float32)], 'Conv__157_ReduceMin': [array(-31.518967, dtype=float32), array(-28.994358, dtype=float32), array(-31.119576, dtype=float32), array(-30.722702, dtype=float32), array(-31.20757, dtype=float32), array(-32.635265, dtype=float32), array(-30.727287, dtype=float32), array(-31.9642, dtype=float32), array(-30.917316, dtype=float32)], 'Conv__157_ReduceMax': [array(31.660542, dtype=float32), array(31.967728, dtype=float32), array(32.10766, dtype=float32), array(31.918076, dtype=float32), array(31.917194, dtype=float32), array(31.961777, dtype=float32), array(32.066624, dtype=float32), array(32.105473, dtype=float32), array(32.04441, dtype=float32)], 'Conv__159_ReduceMin': [array(-46.187794, dtype=float32), array(-40.163635, dtype=float32), array(-39.69435, dtype=float32), array(-40.97627, dtype=float32), array(-42.249058, dtype=float32), array(-34.79339, dtype=float32), array(-40.7584, dtype=float32), array(-40.765247, dtype=float32), array(-40.395393, dtype=float32)], 'Conv__159_ReduceMax': [array(41.215622, dtype=float32), array(41.982365, dtype=float32), array(44.271935, dtype=float32), array(44.914444, dtype=float32), array(43.88228, dtype=float32), array(46.76754, dtype=float32), array(45.29589, dtype=float32), array(44.08101, dtype=float32), array(40.75629, dtype=float32)], 'Conv__161_ReduceMin': [array(-20.282051, dtype=float32), array(-20.127766, dtype=float32), array(-20.587574, dtype=float32), array(-19.785252, dtype=float32), array(-19.333206, dtype=float32), array(-20.271908, dtype=float32), array(-20.289423, dtype=float32), array(-20.054258, dtype=float32), array(-20.922878, dtype=float32)], 'Conv__161_ReduceMax': [array(14.503275, dtype=float32), array(14.955172, dtype=float32), array(15.499968, dtype=float32), array(14.391131, dtype=float32), array(15.637027, dtype=float32), array(14.436499, dtype=float32), array(14.364889, dtype=float32), array(14.896704, dtype=float32), array(14.591858, dtype=float32)], 'Conv__163_ReduceMin': [array(-20.513504, dtype=float32), array(-21.095203, dtype=float32), array(-27.83742, dtype=float32), array(-25.837534, dtype=float32), array(-20.082602, dtype=float32), array(-20.465267, dtype=float32), array(-19.846512, dtype=float32), array(-18.170305, dtype=float32), array(-21.044413, dtype=float32)], 'Conv__163_ReduceMax': [array(36.40705, dtype=float32), array(37.65309, dtype=float32), array(35.421997, dtype=float32), array(35.31942, dtype=float32), array(34.164246, dtype=float32), array(38.699577, dtype=float32), array(36.01474, dtype=float32), array(36.019035, dtype=float32), array(36.914314, dtype=float32)], 'Conv__165_ReduceMin': [array(-13.897392, dtype=float32), array(-13.875493, dtype=float32), array(-13.807091, dtype=float32), array(-13.242911, dtype=float32), array(-13.628273, dtype=float32), array(-13.924534, dtype=float32), array(-13.540714, dtype=float32), array(-13.25908, dtype=float32), array(-13.8083725, dtype=float32)], 'Conv__165_ReduceMax': [array(18.649603, dtype=float32), array(19.146465, dtype=float32), array(19.611168, dtype=float32), array(18.529613, dtype=float32), array(19.16784, dtype=float32), array(19.754738, dtype=float32), array(19.062311, dtype=float32), array(17.788422, dtype=float32), array(18.94899, dtype=float32)], 'Conv__167_ReduceMin': [array(-12.913298, dtype=float32), array(-12.850025, dtype=float32), array(-12.651171, dtype=float32), array(-13.279698, dtype=float32), array(-12.874462, dtype=float32), array(-13.737745, dtype=float32), array(-13.68383, dtype=float32), array(-13.490326, dtype=float32), array(-13.57917, dtype=float32)], 'Conv__167_ReduceMax': [array(11.992815, dtype=float32), array(11.724722, dtype=float32), array(11.291144, dtype=float32), array(11.612169, dtype=float32), array(11.383942, dtype=float32), array(11.023705, dtype=float32), array(12.282363, dtype=float32), array(11.33494, dtype=float32), array(11.599857, dtype=float32)], 'Conv__169_ReduceMin': [array(-5.4196634, dtype=float32), array(-5.6567345, dtype=float32), array(-5.5183096, dtype=float32), array(-5.864051, dtype=float32), array(-5.416785, dtype=float32), array(-5.2569776, dtype=float32), array(-5.8059897, dtype=float32), array(-5.5955877, dtype=float32), array(-5.3792906, dtype=float32)], 'Conv__169_ReduceMax': [array(7.242512, dtype=float32), array(7.716243, dtype=float32), array(7.9512596, dtype=float32), array(7.330702, dtype=float32), array(7.4155717, dtype=float32), array(7.632737, dtype=float32), array(7.5677557, dtype=float32), array(7.167038, dtype=float32), array(8.210937, dtype=float32)], 'Conv__171_ReduceMin': [array(-20.201178, dtype=float32), array(-20.01017, dtype=float32), array(-19.967134, dtype=float32), array(-19.817535, dtype=float32), array(-20.200203, dtype=float32), array(-19.621351, dtype=float32), array(-19.920258, dtype=float32), array(-19.825733, dtype=float32), array(-20.057137, dtype=float32)], 'Conv__171_ReduceMax': [array(12.440336, dtype=float32), array(12.406067, dtype=float32), array(12.440336, dtype=float32), array(12.440336, dtype=float32), array(12.440336, dtype=float32), array(12.440336, dtype=float32), array(12.440078, dtype=float32), array(12.417809, dtype=float32), array(12.440336, dtype=float32)], 'Conv__173_ReduceMin': [array(-6.9915347, dtype=float32), array(-6.6895776, dtype=float32), array(-7.5026364, dtype=float32), array(-6.735084, dtype=float32), array(-7.2404256, dtype=float32), array(-6.7775044, dtype=float32), array(-6.672975, dtype=float32), array(-7.4222903, dtype=float32), array(-7.550725, dtype=float32)], 'Conv__173_ReduceMax': [array(6.7398825, dtype=float32), array(7.3805304, dtype=float32), array(6.9977455, dtype=float32), array(7.07549, dtype=float32), array(6.9153113, dtype=float32), array(6.9423566, dtype=float32), array(6.2962494, dtype=float32), array(7.312852, dtype=float32), array(7.0025625, dtype=float32)], 'Conv__175_ReduceMin': [array(-7.176267, dtype=float32), array(-7.0894246, dtype=float32), array(-6.638161, dtype=float32), array(-6.7839084, dtype=float32), array(-7.2438087, dtype=float32), array(-6.4493723, dtype=float32), array(-6.6490026, dtype=float32), array(-7.1037574, dtype=float32), array(-6.7767825, dtype=float32)], 'Conv__175_ReduceMax': [array(7.8798323, dtype=float32), array(7.623676, dtype=float32), array(7.4417777, dtype=float32), array(7.6542754, dtype=float32), array(7.57596, dtype=float32), array(7.626667, dtype=float32), array(7.5912657, dtype=float32), array(7.6479583, dtype=float32), array(7.4958367, dtype=float32)], 'Conv__177_ReduceMin': [array(-5.4782095, dtype=float32), array(-5.2541265, dtype=float32), array(-5.4536495, dtype=float32), array(-5.1114173, dtype=float32), array(-5.270501, dtype=float32), array(-5.7375746, dtype=float32), array(-5.4136496, dtype=float32), array(-5.403083, dtype=float32), array(-5.5665693, dtype=float32)], 'Conv__177_ReduceMax': [array(12.441538, dtype=float32), array(12.175416, dtype=float32), array(13.221039, dtype=float32), array(13.361182, dtype=float32), array(12.868526, dtype=float32), array(13.152601, dtype=float32), array(12.978594, dtype=float32), array(13.168769, dtype=float32), array(14.410714, dtype=float32)], 'Conv__179_ReduceMin': [array(-15.791419, dtype=float32), array(-15.7394285, dtype=float32), array(-15.785117, dtype=float32), array(-15.608177, dtype=float32), array(-15.609673, dtype=float32), array(-15.59142, dtype=float32), array(-15.495158, dtype=float32), array(-15.483814, dtype=float32), array(-15.745397, dtype=float32)], 'Conv__179_ReduceMax': [array(11.44496, dtype=float32), array(11.297437, dtype=float32), array(11.333295, dtype=float32), array(10.077944, dtype=float32), array(10.821391, dtype=float32), array(11.822849, dtype=float32), array(10.665392, dtype=float32), array(10.1582575, dtype=float32), array(11.262195, dtype=float32)], 'Conv__181_ReduceMin': [array(-7.5501995, dtype=float32), array(-8.453903, dtype=float32), array(-7.4782352, dtype=float32), array(-7.3111086, dtype=float32), array(-8.858932, dtype=float32), array(-7.4708757, dtype=float32), array(-8.2057495, dtype=float32), array(-7.534625, dtype=float32), array(-7.5269165, dtype=float32)], 'Conv__181_ReduceMax': [array(6.94879, dtype=float32), array(7.495652, dtype=float32), array(6.555136, dtype=float32), array(7.0661917, dtype=float32), array(8.078601, dtype=float32), array(7.0390444, dtype=float32), array(7.345315, dtype=float32), array(6.9566956, dtype=float32), array(7.7754917, dtype=float32)], 'Conv__183_ReduceMin': [array(-7.301957, dtype=float32), array(-6.802614, dtype=float32), array(-7.1169343, dtype=float32), array(-6.7444777, dtype=float32), array(-6.6439657, dtype=float32), array(-6.762876, dtype=float32), array(-6.7414837, dtype=float32), array(-7.0516796, dtype=float32), array(-7.1036663, dtype=float32)], 'Conv__183_ReduceMax': [array(5.7119265, dtype=float32), array(5.6360865, dtype=float32), array(5.598049, dtype=float32), array(5.496076, dtype=float32), array(5.4086075, dtype=float32), array(5.476971, dtype=float32), array(6.171879, dtype=float32), array(5.522202, dtype=float32), array(5.747077, dtype=float32)], 'Conv__185_ReduceMin': [array(-4.347387, dtype=float32), array(-4.2568364, dtype=float32), array(-4.150653, dtype=float32), array(-4.4045324, dtype=float32), array(-4.2035427, dtype=float32), array(-4.5597353, dtype=float32), array(-4.333032, dtype=float32), array(-4.2484493, dtype=float32), array(-4.236662, dtype=float32)], 'Conv__185_ReduceMax': [array(5.8712006, dtype=float32), array(4.942692, dtype=float32), array(5.811124, dtype=float32), array(5.390758, dtype=float32), array(5.2102547, dtype=float32), array(6.2238503, dtype=float32), array(5.7743387, dtype=float32), array(5.3667345, dtype=float32), array(5.2201414, dtype=float32)], 'Conv__187_ReduceMin': [array(-8.055017, dtype=float32), array(-7.6548533, dtype=float32), array(-7.7209973, dtype=float32), array(-7.8243794, dtype=float32), array(-7.8558927, dtype=float32), array(-7.543552, dtype=float32), array(-8.396652, dtype=float32), array(-7.669394, dtype=float32), array(-8.133951, dtype=float32)], 'Conv__187_ReduceMax': [array(5.262163, dtype=float32), array(5.204635, dtype=float32), array(5.291897, dtype=float32), array(5.172348, dtype=float32), array(4.832684, dtype=float32), array(4.864975, dtype=float32), array(5.7003555, dtype=float32), array(5.100047, dtype=float32), array(5.002714, dtype=float32)], 'Conv__189_ReduceMin': [array(-3.8131967, dtype=float32), array(-3.6822891, dtype=float32), array(-3.433988, dtype=float32), array(-3.4102335, dtype=float32), array(-3.8304706, dtype=float32), array(-3.7102714, dtype=float32), array(-3.7649674, dtype=float32), array(-3.9683228, dtype=float32), array(-3.6783528, dtype=float32)], 'Conv__189_ReduceMax': [array(4.1490407, dtype=float32), array(3.9454284, dtype=float32), array(3.762639, dtype=float32), array(4.441721, dtype=float32), array(4.1697702, dtype=float32), array(4.0982947, dtype=float32), array(4.150047, dtype=float32), array(4.7387795, dtype=float32), array(4.285195, dtype=float32)], 'Conv__191_ReduceMin': [array(-4.4253764, dtype=float32), array(-3.7628977, dtype=float32), array(-4.1263924, dtype=float32), array(-4.151907, dtype=float32), array(-4.70797, dtype=float32), array(-4.8005223, dtype=float32), array(-3.9761968, dtype=float32), array(-4.9453654, dtype=float32), array(-4.542041, dtype=float32)], 'Conv__191_ReduceMax': [array(5.0994763, dtype=float32), array(4.5333624, dtype=float32), array(4.666445, dtype=float32), array(5.206204, dtype=float32), array(5.169458, dtype=float32), array(4.530043, dtype=float32), array(4.7537684, dtype=float32), array(4.5340967, dtype=float32), array(5.0059996, dtype=float32)], 'Conv__193_ReduceMin': [array(-3.433351, dtype=float32), array(-3.9404652, dtype=float32), array(-3.7554324, dtype=float32), array(-3.8285873, dtype=float32), array(-3.4460242, dtype=float32), array(-3.5949879, dtype=float32), array(-3.2232838, dtype=float32), array(-3.401472, dtype=float32), array(-3.3453002, dtype=float32)], 'Conv__193_ReduceMax': [array(4.6264277, dtype=float32), array(4.734392, dtype=float32), array(4.3241806, dtype=float32), array(4.321483, dtype=float32), array(4.893247, dtype=float32), array(4.6302624, dtype=float32), array(5.1938744, dtype=float32), array(5.698718, dtype=float32), array(5.3874636, dtype=float32)], 'Conv__195_ReduceMin': [array(-5.4760747, dtype=float32), array(-5.851194, dtype=float32), array(-5.063158, dtype=float32), array(-5.6906695, dtype=float32), array(-4.8714967, dtype=float32), array(-5.379759, dtype=float32), array(-5.5199637, dtype=float32), array(-5.010575, dtype=float32), array(-5.024858, dtype=float32)], 'Conv__195_ReduceMax': [array(4.848394, dtype=float32), array(4.919847, dtype=float32), array(5.2375298, dtype=float32), array(5.033896, dtype=float32), array(5.0836887, dtype=float32), array(5.168401, dtype=float32), array(4.9314613, dtype=float32), array(5.048847, dtype=float32), array(4.680312, dtype=float32)], 'Conv__197_ReduceMin': [array(-4.0591836, dtype=float32), array(-3.546677, dtype=float32), array(-3.6595373, dtype=float32), array(-3.6346807, dtype=float32), array(-3.4913993, dtype=float32), array(-3.8671918, dtype=float32), array(-3.6752381, dtype=float32), array(-3.6278205, dtype=float32), array(-3.8286662, dtype=float32)], 'Conv__197_ReduceMax': [array(3.936976, dtype=float32), array(3.5686424, dtype=float32), array(3.566477, dtype=float32), array(4.0237384, dtype=float32), array(3.95198, dtype=float32), array(3.7796488, dtype=float32), array(3.5253751, dtype=float32), array(3.504992, dtype=float32), array(4.2570477, dtype=float32)], 'Conv__199_ReduceMin': [array(-2.3181915, dtype=float32), array(-2.2904487, dtype=float32), array(-2.1751156, dtype=float32), array(-3.0746117, dtype=float32), array(-2.3906248, dtype=float32), array(-2.2985477, dtype=float32), array(-2.6039038, dtype=float32), array(-3.1107025, dtype=float32), array(-2.3262393, dtype=float32)], 'Conv__199_ReduceMax': [array(3.1237342, dtype=float32), array(3.0854402, dtype=float32), array(3.0893636, dtype=float32), array(3.2511349, dtype=float32), array(3.712746, dtype=float32), array(3.1561847, dtype=float32), array(3.0748653, dtype=float32), array(3.2392082, dtype=float32), array(3.2191708, dtype=float32)], 'Conv__201_ReduceMin': [array(-3.4461384, dtype=float32), array(-3.2717595, dtype=float32), array(-3.5571604, dtype=float32), array(-3.9938507, dtype=float32), array(-3.9927473, dtype=float32), array(-3.4178245, dtype=float32), array(-3.0650353, dtype=float32), array(-3.5346465, dtype=float32), array(-3.4859817, dtype=float32)], 'Conv__201_ReduceMax': [array(3.7350724, dtype=float32), array(3.481342, dtype=float32), array(3.861862, dtype=float32), array(3.7851703, dtype=float32), array(3.9817488, dtype=float32), array(4.027111, dtype=float32), array(3.9555776, dtype=float32), array(3.56835, dtype=float32), array(4.04895, dtype=float32)], 'Conv__203_ReduceMin': [array(-11.248626, dtype=float32), array(-12.083997, dtype=float32), array(-11.088487, dtype=float32), array(-10.262315, dtype=float32), array(-11.355882, dtype=float32), array(-11.837628, dtype=float32), array(-11.409385, dtype=float32), array(-13.156728, dtype=float32), array(-11.391866, dtype=float32)], 'Conv__203_ReduceMax': [array(3.4656959, dtype=float32), array(3.508413, dtype=float32), array(3.658695, dtype=float32), array(3.6097124, dtype=float32), array(3.470994, dtype=float32), array(3.4628558, dtype=float32), array(3.504988, dtype=float32), array(3.5342033, dtype=float32), array(3.4820848, dtype=float32)], 'Conv__205_ReduceMin': [array(-12.904643, dtype=float32), array(-12.85909, dtype=float32), array(-13.090539, dtype=float32), array(-12.9907255, dtype=float32), array(-12.831431, dtype=float32), array(-12.470051, dtype=float32), array(-13.402207, dtype=float32), array(-13.41636, dtype=float32), array(-13.194895, dtype=float32)], 'Conv__205_ReduceMax': [array(8.191716, dtype=float32), array(9.210926, dtype=float32), array(9.0765915, dtype=float32), array(9.135456, dtype=float32), array(9.150446, dtype=float32), array(8.939987, dtype=float32), array(9.147012, dtype=float32), array(11.079783, dtype=float32), array(9.789091, dtype=float32)], 'Conv__207_ReduceMin': [array(-6.790256, dtype=float32), array(-7.4483604, dtype=float32), array(-6.809295, dtype=float32), array(-7.410835, dtype=float32), array(-7.084094, dtype=float32), array(-7.019816, dtype=float32), array(-7.462286, dtype=float32), array(-6.7940702, dtype=float32), array(-6.9208407, dtype=float32)], 'Conv__207_ReduceMax': [array(9.036439, dtype=float32), array(9.520318, dtype=float32), array(9.460128, dtype=float32), array(9.78014, dtype=float32), array(9.184516, dtype=float32), array(9.833917, dtype=float32), array(10.250713, dtype=float32), array(9.865898, dtype=float32), array(9.395604, dtype=float32)]}\n"
     ]
    }
   ],
   "source": [
    "# Create dictionary with outputs results from multiple test datasets\n",
    "\n",
    "dicts = [dict(zip(node_names, intermediate_outputs_multiple[i])) for i in range(test_data_num)]\n",
    "output_dictionary_multiple = {}\n",
    "for d in dicts:\n",
    "    for k, v in d.items():\n",
    "        output_dictionary_multiple.setdefault(k, []).append(v)\n",
    "\n",
    "#print(len(output_dictionary_multiple.keys()))\n",
    "print(output_dictionary_multiple)\n",
    "\n",
    "#for key in output_dictionary_multiple.keys():\n",
    "#    print(key, len(output_dictionary_multiple[key]))\n"
   ]
  },
  {
   "cell_type": "markdown",
   "metadata": {},
   "source": [
    "### Use augmented outputs as inputs to quantize.py"
   ]
  },
  {
   "cell_type": "code",
   "execution_count": 88,
   "metadata": {},
   "outputs": [
    {
     "name": "stdout",
     "output_type": "stream",
     "text": [
      "(1, 1001)\n",
      "{'MobilenetV1/Predictions/Reshape_1': array([[1.2071537e-06, 4.2715669e-06, 4.4557950e-05, ..., 2.3128919e-06,\n",
      "        4.8174730e-05, 7.5088828e-05]], dtype=float32), 'Conv__153_ReduceMin': -1500.3959825303818, 'Conv__153_ReduceMax': 1582.7683783637153, 'Conv__155_ReduceMin': -29.92069074842665, 'Conv__155_ReduceMax': 30.072144826253254, 'Conv__157_ReduceMin': -31.089693281385635, 'Conv__157_ReduceMax': 31.972164577907986, 'Conv__159_ReduceMin': -40.66483730740018, 'Conv__159_ReduceMax': 43.68526373969184, 'Conv__161_ReduceMin': -20.183812883165146, 'Conv__161_ReduceMax': 14.80850240919325, 'Conv__163_ReduceMin': -21.654751035902237, 'Conv__163_ReduceMax': 36.29038577609592, 'Conv__165_ReduceMin': -13.664873441060385, 'Conv__165_ReduceMax': 18.962127685546875, 'Conv__167_ReduceMin': -13.228858417934841, 'Conv__167_ReduceMax': 11.582850774129232, 'Conv__169_ReduceMin': -5.545932081010607, 'Conv__169_ReduceMax': 7.581639501783583, 'Conv__171_ReduceMin': -19.957855436537002, 'Conv__171_ReduceMax': 12.433996730380589, 'Conv__173_ReduceMin': -7.06475035349528, 'Conv__173_ReduceMax': 6.962553342183431, 'Conv__175_ReduceMin': -6.878942754533556, 'Conv__175_ReduceMax': 7.615249898698595, 'Conv__177_ReduceMin': -5.4098644786410865, 'Conv__177_ReduceMax': 13.086486604478624, 'Conv__179_ReduceMin': -15.649955961439344, 'Conv__179_ReduceMax': 10.987079938252768, 'Conv__181_ReduceMin': -7.821171654595269, 'Conv__181_ReduceMax': 7.251213073730469, 'Conv__183_ReduceMin': -6.91885052786933, 'Conv__183_ReduceMax': 5.640986071692573, 'Conv__185_ReduceMin': -4.304536660512288, 'Conv__185_ReduceMax': 5.534565978580051, 'Conv__187_ReduceMin': -7.872743288675944, 'Conv__187_ReduceMax': 5.159090995788574, 'Conv__189_ReduceMin': -3.6991213692559137, 'Conv__189_ReduceMax': 4.193435033162435, 'Conv__191_ReduceMin': -4.382074329588148, 'Conv__191_ReduceMax': 4.83320591184828, 'Conv__193_ReduceMin': -3.5521004464891224, 'Conv__193_ReduceMax': 4.867783228556315, 'Conv__195_ReduceMin': -5.3208609157138405, 'Conv__195_ReduceMax': 4.99470853805542, 'Conv__197_ReduceMin': -3.710043854183621, 'Conv__197_ReduceMax': 3.7905419402652316, 'Conv__199_ReduceMin': -2.5098206202189126, 'Conv__199_ReduceMax': 3.216871976852417, 'Conv__201_ReduceMin': -3.52946048312717, 'Conv__201_ReduceMax': 3.827242718802558, 'Conv__203_ReduceMin': -11.537212477789986, 'Conv__203_ReduceMax': 3.5219602319929333, 'Conv__205_ReduceMin': -13.01777129703098, 'Conv__205_ReduceMax': 9.302334361606174, 'Conv__207_ReduceMin': -7.082205931345622, 'Conv__207_ReduceMax': 9.591963662041557}\n"
     ]
    }
   ],
   "source": [
    "# Representing distribution of a node's values as arithmetic average\n",
    "\n",
    "print(output_dictionary_multiple['MobilenetV1/Predictions/Reshape_1'][0].shape) # (1, 1001) array\n",
    "\n",
    "avg_dict = {}\n",
    "for key, value in output_dictionary_multiple.items():\n",
    "    #avg_dict[key] = np.average(value)\n",
    "    avg_dict[key] = sum(value)/float(len(value))\n",
    "    \n",
    "print(avg_dict)"
   ]
  },
  {
   "cell_type": "code",
   "execution_count": null,
   "metadata": {},
   "outputs": [],
   "source": []
  }
 ],
 "metadata": {
  "kernelspec": {
   "display_name": "Python 3",
   "language": "python",
   "name": "python3"
  },
  "language_info": {
   "codemirror_mode": {
    "name": "ipython",
    "version": 3
   },
   "file_extension": ".py",
   "mimetype": "text/x-python",
   "name": "python",
   "nbconvert_exporter": "python",
   "pygments_lexer": "ipython3",
   "version": "3.6.8"
  }
 },
 "nbformat": 4,
 "nbformat_minor": 2
}
